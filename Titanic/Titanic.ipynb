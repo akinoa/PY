{
 "cells": [
  {
   "cell_type": "code",
   "execution_count": null,
   "metadata": {
    "collapsed": true
   },
   "outputs": [],
   "source": [
    "import numpy as np\n",
    "import matplotlib.pyplot as plt\n",
    "import pandas as pd\n",
    "from pandas import Series,DataFrame\n",
    "np.random.seed(42)\n",
    "sur=pd.read_csv('train.csv')"
   ]
  },
  {
   "cell_type": "code",
   "execution_count": null,
   "metadata": {},
   "outputs": [],
   "source": [
    "sur.groupby('Pclass').mean()"
   ]
  },
  {
   "cell_type": "code",
   "execution_count": null,
   "metadata": {},
   "outputs": [],
   "source": [
    "class_sex_grouping = sur.groupby(['Pclass','Sex']).mean()"
   ]
  },
  {
   "cell_type": "code",
   "execution_count": null,
   "metadata": {},
   "outputs": [],
   "source": [
    "group_by_age = pd.cut(sur['Age'], np.arange(0, 90, 10))\n",
    "age_grouping = sur.groupby(group_by_age).mean()\n",
    "age_grouping['Survived'].plot.bar()\n",
    "plt.show()"
   ]
  },
  {
   "cell_type": "code",
   "execution_count": null,
   "metadata": {
    "collapsed": true
   },
   "outputs": [],
   "source": [
    "mapping = {'male':1, 'female':2}\n",
    "sur.replace({'Sex':mapping}, inplace = True)"
   ]
  },
  {
   "cell_type": "code",
   "execution_count": null,
   "metadata": {},
   "outputs": [],
   "source": [
    "sur.describe()"
   ]
  },
  {
   "cell_type": "code",
   "execution_count": null,
   "metadata": {
    "collapsed": true
   },
   "outputs": [],
   "source": [
    "mapping={'Q':3,'S':1,'C':2}\n",
    "sur.replace({'Embarked':mapping},inplace=True)"
   ]
  },
  {
   "cell_type": "code",
   "execution_count": null,
   "metadata": {
    "collapsed": true
   },
   "outputs": [],
   "source": [
    "sur['Embarked'].fillna(sur['Embarked'].mode()[0],inplace=True)"
   ]
  },
  {
   "cell_type": "code",
   "execution_count": null,
   "metadata": {
    "collapsed": true
   },
   "outputs": [],
   "source": [
    "sur['Relatives']=sur['Parch']+sur['SibSp']"
   ]
  },
  {
   "cell_type": "code",
   "execution_count": null,
   "metadata": {},
   "outputs": [],
   "source": [
    "from sklearn.ensemble import RandomForestRegressor\n",
    "\n",
    "age = sur[['Age','Fare', 'Relatives', 'Pclass', 'Sex','Embarked']]\n",
    "known_age = age[age['Age'].notnull()].as_matrix()\n",
    "unknown_age = age[age['Age'].isnull()].as_matrix()\n",
    "known_age "
   ]
  },
  {
   "cell_type": "code",
   "execution_count": null,
   "metadata": {
    "collapsed": true
   },
   "outputs": [],
   "source": [
    "y1 = known_age[:, 0] \n",
    "X1 = known_age[:, 1:]\n",
    "rfr = RandomForestRegressor(random_state=42, n_estimators=500)\n",
    "rfr.fit(X1, y1)\n",
    "pAge = rfr.predict(unknown_age[:, 1::])"
   ]
  },
  {
   "cell_type": "code",
   "execution_count": null,
   "metadata": {
    "collapsed": true
   },
   "outputs": [],
   "source": [
    "sur.loc[(sur.Age.isnull()), 'Age']=pAge"
   ]
  },
  {
   "cell_type": "code",
   "execution_count": null,
   "metadata": {},
   "outputs": [],
   "source": [
    "sur.isnull().any()"
   ]
  },
  {
   "cell_type": "code",
   "execution_count": null,
   "metadata": {
    "collapsed": true
   },
   "outputs": [],
   "source": [
    "sur.loc[ (sur.Cabin.notnull()), 'Cabin' ] = 1\n",
    "sur.loc[ (sur.Cabin.isnull()), 'Cabin' ] = 0"
   ]
  },
  {
   "cell_type": "code",
   "execution_count": null,
   "metadata": {},
   "outputs": [],
   "source": [
    "AgeT=sur['Age']\n",
    "AgeT=AgeT.values.reshape(-1,1)\n",
    "FareT=sur['Fare']\n",
    "FareT=FareT.values.reshape(-1,1)\n",
    "ParchT=sur['Parch']\n",
    "ParchT=ParchT.values.reshape(-1,1)\n",
    "SibSpT=sur['SibSp']\n",
    "SibSpT=SibSpT.values.reshape(-1,1)\n",
    "RelativesT=sur['Relatives']\n",
    "RelativesT=RelativesT.values.reshape(-1,1)"
   ]
  },
  {
   "cell_type": "code",
   "execution_count": null,
   "metadata": {},
   "outputs": [],
   "source": [
    "from sklearn.preprocessing import StandardScaler\n",
    "scaler=StandardScaler()\n",
    "X_train_scaled = scaler.fit_transform(X_train)"
   ]
  },
  {
   "cell_type": "code",
   "execution_count": null,
   "metadata": {
    "collapsed": true
   },
   "outputs": [],
   "source": [
    "sur['AgeT']=AgeT\n",
    "sur['FareT']=FareT\n",
    "sur['ParchT']=ParchT\n",
    "sur['SibSpT']=SibSpT\n",
    "sur['RT']=RelativesT"
   ]
  },
  {
   "cell_type": "markdown",
   "metadata": {},
   "source": [
    "Index(['PassengerId', 'Survived', 'Pclass', 'Name', 'Sex', 'Age', 'SibSp',\n",
    "       'Parch', 'Ticket', 'Fare', 'Cabin', 'Embarked'],\n",
    "      dtype='object')"
   ]
  },
  {
   "cell_type": "code",
   "execution_count": null,
   "metadata": {},
   "outputs": [],
   "source": [
    "sur.info()"
   ]
  },
  {
   "cell_type": "code",
   "execution_count": null,
   "metadata": {
    "collapsed": true
   },
   "outputs": [],
   "source": [
    "z = sur['Survived']"
   ]
  },
  {
   "cell_type": "code",
   "execution_count": null,
   "metadata": {
    "collapsed": true
   },
   "outputs": [],
   "source": [
    "cols1 = ['Pclass','AgeT','Sex','SibSpT','ParchT','FareT','Cabin','Embarked']\n",
    "U1 = sur[cols1]\n",
    "cols2=['Pclass','AgeT','Sex','FareT','Embarked']\n",
    "U2 = sur[cols2]\n",
    "cols3 = ['Pclass','AgeT','Sex','SibSpT','ParchT','FareT','Embarked']\n",
    "U3 = sur[cols3]\n",
    "cols4 = ['Pclass','AgeT','Sex','FareT','Cabin']\n",
    "U4 = sur[cols4]\n",
    "cols5 = ['Pclass','AgeT','Sex','FareT','Cabin','Embarked']\n",
    "U5=sur[cols5]\n",
    "cols6= ['Pclass','AgeT','Sex','SibSpT','ParchT']\n",
    "U6=sur[cols6]\n",
    "cols7 = ['Pclass','Age','Sex','RT']\n",
    "U7=sur[cols7]\n",
    "cols8 = ['Pclass','AgeT','Sex','Cabin','Embarked']\n",
    "U8=sur[cols8]\n",
    "cols9 =['Pclass','AgeT','Sex','RT','FareT']\n",
    "U9=sur[cols9]\n",
    "cols10 =['Pclass','AgeT','Sex','RT','FareT','Cabin']\n",
    "U10=sur[cols10]\n",
    "cols11 = ['Pclass','AgeT','Sex','FareT']\n",
    "U11=sur[cols11]\n",
    "cols12=['Pclass','Sex','SibSpT','ParchT','Cabin','Embarked']\n",
    "U12=sur[cols12]\n",
    "cols13=['Pclass','AgeT','Sex','RT','FareT','Embarked']\n",
    "U13=sur[cols13]\n",
    "cols14=['Pclass','AgeT','Sex','RT','Cabin']\n",
    "U14=sur[cols14]\n",
    "cols15=['Pclass','AgeT','Sex','RT','Embarked']\n",
    "U15=sur[cols15]\n",
    "cols16=['Pclass','AgeT','Sex','RT','Embarked','Cabin']\n",
    "U16=sur[cols16]\n",
    "cols17=['Pclass','AgeT','Sex','RT','FareT']\n",
    "U17=sur[cols17]\n"
   ]
  },
  {
   "cell_type": "code",
   "execution_count": null,
   "metadata": {},
   "outputs": [],
   "source": [
    "sur.columns"
   ]
  },
  {
   "cell_type": "code",
   "execution_count": null,
   "metadata": {
    "collapsed": true
   },
   "outputs": [],
   "source": [
    "from sklearn.model_selection import train_test_split\n",
    "X1_train, X1_test, y1_train, y1_test = train_test_split(U1,z, test_size=0.2, random_state =42)\n",
    "X2_train, X2_test, y2_train, y2_test = train_test_split(U14,z, test_size =0.2, random_state =42)\n",
    "X3 = sur[['Pclass','AgeT','Sex','FareT','Embarked']]\n",
    "y3 = sur['Survived']\n",
    "X3_train, X3_test, y3_train, y3_test = train_test_split(X3, y3, test_size=0.2, random_state=42)"
   ]
  },
  {
   "cell_type": "code",
   "execution_count": null,
   "metadata": {
    "collapsed": true
   },
   "outputs": [],
   "source": [
    "from sklearn.model_selection import GridSearchCV\n",
    "from sklearn.neighbors import KNeighborsClassifier\n",
    "from sklearn.ensemble import RandomForestClassifier\n",
    "from sklearn.tree import DecisionTreeClassifier"
   ]
  },
  {
   "cell_type": "code",
   "execution_count": null,
   "metadata": {},
   "outputs": [],
   "source": [
    "tree = DecisionTreeClassifier(random_state=42)\n",
    "grid_values = [\n",
    "{'max_features':[3,4,5], 'max_depth': [10,30,50,80,100,200] }]\n",
    "# default metric to optimize over grid parameters: accuracy\n",
    "grid_clf_acc = GridSearchCV(tree, param_grid = grid_values)\n",
    "grid_clf_acc.fit(X3,y3)\n",
    "print('Grid best parameter (max. accuracy): ', grid_clf_acc.best_params_)\n",
    "print('Grid best score (accuracy): ', grid_clf_acc.best_score_)"
   ]
  },
  {
   "cell_type": "code",
   "execution_count": null,
   "metadata": {},
   "outputs": [],
   "source": [
    "rf=RandomForestClassifier(random_state=42)\n",
    "grid_values = [\n",
    "{'n_estimators': [10,30,50,80,100,150], 'max_features': [3,4,5], 'max_depth': [10,30,50,80,100,200] }]\n",
    "grid_clf_acc = GridSearchCV(rf, param_grid = grid_values)\n",
    "grid_clf_acc.fit(X3,y3)\n",
    "print('Grid best parameter (max. accuracy): ', grid_clf_acc.best_params_)\n",
    "print('Grid best score (accuracy): ', grid_clf_acc.best_score_)"
   ]
  },
  {
   "cell_type": "code",
   "execution_count": null,
   "metadata": {},
   "outputs": [],
   "source": [
    "knn = KNeighborsClassifier()\n",
    "\n",
    "grid_values = {'n_neighbors': [2,3,4,5,6,7,8,9,10]}\n",
    "# default metric to optimize over grid parameters: accuracy\n",
    "grid_clf_acc = GridSearchCV(knn, param_grid = grid_values)\n",
    "grid_clf_acc.fit(X3,y3)\n",
    "print('Grid best parameter (max. accuracy): ', grid_clf_acc.best_params_)\n",
    "print('Grid best score (accuracy): ', grid_clf_acc.best_score_)"
   ]
  },
  {
   "cell_type": "code",
   "execution_count": null,
   "metadata": {},
   "outputs": [],
   "source": [
    "from sklearn.ensemble import RandomForestClassifier\n",
    "l1=[30,50,80,100,150,200]\n",
    "l2=[3,4,5,6,7,8]\n",
    "l3=[10,20,30,40,50]\n",
    "for i in l1:\n",
    "    for j in l2:\n",
    "        for k in l3:\n",
    "            rf=RandomForestClassifier(n_estimators=i,max_features=j,max_depth=k,random_state=42)\n",
    "            rf.fit(X1_train,y1_train)\n",
    "            print('n_estimator:',i,'max_features:',j,'max_depth:',k,rf.score(X1_test,y1_test))"
   ]
  },
  {
   "cell_type": "code",
   "execution_count": null,
   "metadata": {},
   "outputs": [],
   "source": [
    "from sklearn.ensemble import ExtraTreesClassifier\n",
    "l1=[50,100,150,200]\n",
    "l2=[3,4,5,6,7,8]\n",
    "l3=[10,15,20,30]\n",
    "for i in l1:\n",
    "    for j in l2:\n",
    "        \n",
    "        \n",
    "        for k in l3:\n",
    "            et=ExtraTreesClassifier(n_estimators=i,max_features=j,max_depth=k,random_state=42)\n",
    "            et.fit(X1_train,y1_train)\n",
    "            print('n_estimator:',i,'max_features:',j,'max_features:',k,'score:',et.score(X1_test,y1_test))"
   ]
  },
  {
   "cell_type": "code",
   "execution_count": null,
   "metadata": {},
   "outputs": [],
   "source": [
    "from sklearn.svm import SVC\n",
    "\n",
    "rf_clf=RandomForestClassifier(n_estimators=100, max_features=4, max_depth=10, random_state=42)#score:0.9642\n",
    "et_clf=ExtraTreesClassifier(n_estimators=50, max_features=4, max_depth=15, random_state=42)#score:0.9665\n",
    "#svm_clf=LinearSVC(C=100, loss=\"hinge\",random_state=2017)#score:0.8752\n",
    "#svc=SVC(C=0.001,kernel='linear',random_state=2017,probability=True) #score:0.9207\n",
    "from sklearn.ensemble import VotingClassifier\n",
    "votingh_clf=VotingClassifier(\n",
    "    estimators=[('et',et_clf),('rf',rf_clf)], voting='hard')\n",
    "votings_clf=VotingClassifier(\n",
    "    estimators=[('et',et_clf),('rf',rf_clf)], voting='soft')\n",
    "votingh_clf.fit(X3_train,y3_train)\n",
    "print(votingh_clf.score(X3_test,y3_test))\n",
    "votings_clf.fit(X3_train,y3_train)\n",
    "print(votings_clf.score(X3_test,y3_test))"
   ]
  },
  {
   "cell_type": "code",
   "execution_count": null,
   "metadata": {},
   "outputs": [],
   "source": [
    "from sklearn.model_selection import train_test_split\n",
    "from sklearn.neighbors import KNeighborsClassifier\n",
    "import matplotlib.pyplot as plt\n",
    "X1_train, X1_test, y1_train, y1_test = train_test_split(U2,z, test_size=0.2, random_state =42)\n",
    "X2_train, X2_test, y2_train, y2_test = train_test_split(U14,z, test_size =0.2, random_state =42)\n",
    "\n",
    "test1 = []\n",
    "train1 = []\n",
    "test2 = []\n",
    "train2 = []\n",
    "\n",
    "for n in range(1,30):\n",
    "    knn = KNeighborsClassifier(n_neighbors = n)\n",
    "    knn.fit(X1_train, y1_train)\n",
    "    train1.append(knn.score(X1_train, y1_train))\n",
    "    test1.append(knn.score(X1_test, y1_test))\n",
    "    knn.fit(X2_train, y2_train)\n",
    "    train2.append(knn.score(X2_train, y2_train))\n",
    "    test2.append(knn.score(X2_test, y2_test))  \n",
    "        \n",
    "plt.scatter(range(1,30), test1, c='r')\n",
    "plt.scatter(range(1,30), test2, c='g')\n",
    "\n",
    "plt.show()\n",
    "plt.xlabel('r:U2 g:U14')\n",
    "plt.ylabel('accuracy')"
   ]
  },
  {
   "cell_type": "code",
   "execution_count": null,
   "metadata": {
    "collapsed": true
   },
   "outputs": [],
   "source": [
    "from sklearn.model_selection import train_test_split\n",
    "from sklearn.neighbors import KNeighborsClassifier\n",
    "import matplotlib.pyplot as plt\n",
    "\n",
    "X3 = sur[['Pclass','AgeT','Sex','FareT','Embarked']]\n",
    "y3 = sur['Survived']\n",
    "X3_train, X3_test, y3_train, y3_test = train_test_split(X3, y3, test_size=0.2, random_state=42)\n",
    "knn = KNeighborsClassifier(7)\n"
   ]
  },
  {
   "cell_type": "code",
   "execution_count": null,
   "metadata": {},
   "outputs": [],
   "source": [
    "knn.fit(X3_train, y3_train)"
   ]
  },
  {
   "cell_type": "code",
   "execution_count": null,
   "metadata": {},
   "outputs": [],
   "source": [
    "knn.score(X3_test, y3_test)"
   ]
  },
  {
   "cell_type": "code",
   "execution_count": null,
   "metadata": {
    "collapsed": true
   },
   "outputs": [],
   "source": [
    "get_ipython().magic('matplotlib notebook')\n",
    "import matplotlib.pyplot as plt\n",
    "k_range = range(1,30)\n",
    "scores = []\n",
    "\n",
    "for k in k_range:\n",
    "    knn = KNeighborsClassifier(n_neighbors = k)\n",
    "    knn.fit(X3_train, y3_train)\n",
    "    scores.append(knn.score(X3_test, y3_test))\n",
    "\n",
    "plt.figure()\n",
    "plt.xlabel('k')\n",
    "plt.ylabel('accuracy')\n",
    "plt.scatter(k_range, scores)\n",
    "plt.xticks([0,3,6,9,12,15,18,21,24,27])"
   ]
  },
  {
   "cell_type": "code",
   "execution_count": null,
   "metadata": {
    "collapsed": true
   },
   "outputs": [],
   "source": [
    "t = [0.9, 0.8, 0.7, 0.6, 0.5, 0.4, 0.3, 0.2]\n",
    "\n",
    "knn = KNeighborsClassifier(n_neighbors = 7)\n",
    "\n",
    "plt.figure()\n",
    "\n",
    "for s in t:\n",
    "\n",
    "    scores = []\n",
    "    for i in range(1,1000):\n",
    "        X3_train, X3_test, y3_train, y3_test = train_test_split(X3, y3, test_size = 1-s)\n",
    "        knn.fit(X3_train, y3_train)\n",
    "        scores.append(knn.score(X3_test, y3_test))\n",
    "    plt.plot(s, np.mean(scores), 'bo')\n",
    "\n",
    "plt.xlabel('Training set proportion (%)')\n",
    "plt.ylabel('accuracy')"
   ]
  },
  {
   "cell_type": "code",
   "execution_count": null,
   "metadata": {
    "collapsed": true
   },
   "outputs": [],
   "source": [
    "psur=pd.read_csv('test.csv')"
   ]
  },
  {
   "cell_type": "code",
   "execution_count": null,
   "metadata": {},
   "outputs": [],
   "source": [
    "psur.describe()"
   ]
  },
  {
   "cell_type": "code",
   "execution_count": null,
   "metadata": {},
   "outputs": [],
   "source": [
    "psur.info()"
   ]
  },
  {
   "cell_type": "code",
   "execution_count": null,
   "metadata": {
    "collapsed": true
   },
   "outputs": [],
   "source": [
    "psur['Fare'].fillna(psur['Fare'].mean(),inplace=True)"
   ]
  },
  {
   "cell_type": "code",
   "execution_count": null,
   "metadata": {
    "collapsed": true
   },
   "outputs": [],
   "source": [
    "psur['Relatives']=psur['SibSp']+psur['Parch']"
   ]
  },
  {
   "cell_type": "code",
   "execution_count": null,
   "metadata": {
    "collapsed": true
   },
   "outputs": [],
   "source": [
    "mapping = {'male':1, 'female':2}\n",
    "psur.replace({'Sex':mapping}, inplace = True)"
   ]
  },
  {
   "cell_type": "code",
   "execution_count": null,
   "metadata": {
    "collapsed": true
   },
   "outputs": [],
   "source": [
    "mapping={'Q':3,'S':1,'C':2}\n",
    "psur.replace({'Embarked':mapping},inplace=True)"
   ]
  },
  {
   "cell_type": "code",
   "execution_count": null,
   "metadata": {
    "collapsed": true
   },
   "outputs": [],
   "source": [
    "age2 = psur[['Age','Fare', 'Relatives', 'Pclass', 'Sex','Embarked']]\n",
    "known_age2 = age2[age2['Age'].notnull()].as_matrix()\n",
    "#把age矩阵化，条件为age非nan\n",
    "unknown_age2 = age2[age2['Age'].isnull()].as_matrix()"
   ]
  },
  {
   "cell_type": "code",
   "execution_count": null,
   "metadata": {
    "collapsed": true
   },
   "outputs": [],
   "source": [
    "y4 = known_age2[:, 0]  \n",
    "X4 = known_age2[:, 1:]\n"
   ]
  },
  {
   "cell_type": "code",
   "execution_count": null,
   "metadata": {
    "collapsed": true
   },
   "outputs": [],
   "source": [
    "rfr = RandomForestRegressor(random_state=42, n_estimators=500)\n",
    "rfr.fit(X4, y4)\n",
    "pAge2 = rfr.predict(unknown_age2[:, 1::])"
   ]
  },
  {
   "cell_type": "code",
   "execution_count": null,
   "metadata": {
    "collapsed": true
   },
   "outputs": [],
   "source": [
    "psur.loc[(psur.Age.isnull()), 'Age'] = pAge2"
   ]
  },
  {
   "cell_type": "code",
   "execution_count": null,
   "metadata": {
    "collapsed": true
   },
   "outputs": [],
   "source": [
    "psur.loc[ (psur.Cabin.notnull()), 'Cabin' ] = 1\n",
    "psur.loc[ (psur.Cabin.isnull()), 'Cabin' ] = 0"
   ]
  },
  {
   "cell_type": "code",
   "execution_count": null,
   "metadata": {
    "collapsed": true
   },
   "outputs": [],
   "source": [
    "AgeT2=psur['Age']\n",
    "AgeT2=AgeT2.values.reshape(-1,1)\n",
    "FareT2=psur['Fare']\n",
    "FareT2=FareT2.values.reshape(-1,1)\n",
    "RT2=psur['Relatives']\n",
    "RT2=RT2.values.reshape(-1,1)"
   ]
  },
  {
   "cell_type": "code",
   "execution_count": null,
   "metadata": {},
   "outputs": [],
   "source": [
    "AgeT2=scaler.fit_transform(AgeT2)\n",
    "FareT2=scaler.fit_transform(FareT2)\n",
    "RT2=scaler.fit_transform(RT2)"
   ]
  },
  {
   "cell_type": "code",
   "execution_count": null,
   "metadata": {
    "collapsed": true
   },
   "outputs": [],
   "source": [
    "AgeT2\n",
    "psur['AgeT']=AgeT2\n",
    "psur['FareT']=FareT2\n",
    "psur['RT']=RT2"
   ]
  },
  {
   "cell_type": "code",
   "execution_count": null,
   "metadata": {},
   "outputs": [],
   "source": [
    "psur.columns"
   ]
  },
  {
   "cell_type": "code",
   "execution_count": null,
   "metadata": {
    "collapsed": true
   },
   "outputs": [],
   "source": [
    "from sklearn.model_selection import train_test_split\n",
    "X5 = psur[['Pclass','AgeT','Sex','FareT','Embarked']]\n",
    "knn.fit(X3_train, y3_train)\n",
    "knn.predict(X5)\n",
    "psur['Survived']=knn.predict(X5)"
   ]
  },
  {
   "cell_type": "code",
   "execution_count": null,
   "metadata": {
    "collapsed": true
   },
   "outputs": [],
   "source": [
    "rf_clf=RandomForestClassifier(n_estimators=100, max_features=4, max_depth=10, random_state=42)\n",
    "rf_clf.fit(X3_train, y3_train)\n",
    "rf_clf.predict(X5)\n",
    "psur['Survived']=rf_clf.predict(X5)"
   ]
  },
  {
   "cell_type": "code",
   "execution_count": null,
   "metadata": {
    "collapsed": true
   },
   "outputs": [],
   "source": [
    "psur[['PassengerId','Survived']].to_csv('p1r.csv',index=False)"
   ]
  },
  {
   "cell_type": "code",
   "execution_count": null,
   "metadata": {
    "collapsed": true
   },
   "outputs": [],
   "source": []
  }
 ],
 "metadata": {
  "kernelspec": {
   "display_name": "Python 3",
   "language": "python",
   "name": "python3"
  },
  "language_info": {
   "codemirror_mode": {
    "name": "ipython",
    "version": 3
   },
   "file_extension": ".py",
   "mimetype": "text/x-python",
   "name": "python",
   "nbconvert_exporter": "python",
   "pygments_lexer": "ipython3",
   "version": "3.6.1"
  }
 },
 "nbformat": 4,
 "nbformat_minor": 2
}
