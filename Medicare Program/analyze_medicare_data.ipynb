{
 "cells": [
  {
   "cell_type": "code",
   "execution_count": null,
   "metadata": {
    "collapsed": true
   },
   "outputs": [],
   "source": [
    "import requests\n",
    "url='https://data.medicare.gov/views/bg9k-emty/files/0a9879e0-3312-4719-a1db-39fd114890f1?content_type=application%2Fzip%3B%20charset%3Dbinary&filename=Hospital_Revised_Flatfiles.zip'"
   ]
  },
  {
   "cell_type": "code",
   "execution_count": null,
   "metadata": {
    "collapsed": true
   },
   "outputs": [],
   "source": [
    "#pull the zip file to computer\n",
    "s1=requests.get(url)"
   ]
  },
  {
   "cell_type": "code",
   "execution_count": null,
   "metadata": {
    "collapsed": true
   },
   "outputs": [],
   "source": [
    "#make a staging dictionary\n",
    "import os\n",
    "staging_d='staging'\n",
    "os.mkdir(staging_d)"
   ]
  },
  {
   "cell_type": "code",
   "execution_count": null,
   "metadata": {},
   "outputs": [],
   "source": [
    "os.path.isdir(staging_d)"
   ]
  },
  {
   "cell_type": "code",
   "execution_count": null,
   "metadata": {
    "collapsed": true
   },
   "outputs": [],
   "source": [
    "zipN=os.path.join(staging_d,'Hospital_Revised_Flatfiles')"
   ]
  },
  {
   "cell_type": "code",
   "execution_count": null,
   "metadata": {},
   "outputs": [],
   "source": [
    "zipN"
   ]
  },
  {
   "cell_type": "code",
   "execution_count": null,
   "metadata": {
    "collapsed": true
   },
   "outputs": [],
   "source": [
    "zf=open(zipN,'wb')"
   ]
  },
  {
   "cell_type": "code",
   "execution_count": null,
   "metadata": {},
   "outputs": [],
   "source": [
    "zf.write(s1.content)"
   ]
  },
  {
   "cell_type": "code",
   "execution_count": null,
   "metadata": {},
   "outputs": [],
   "source": [
    "zf.close"
   ]
  },
  {
   "cell_type": "code",
   "execution_count": null,
   "metadata": {
    "collapsed": true
   },
   "outputs": [],
   "source": [
    "import zipfile"
   ]
  },
  {
   "cell_type": "code",
   "execution_count": null,
   "metadata": {
    "collapsed": true
   },
   "outputs": [],
   "source": [
    "#read zip file\n",
    "zr=zipfile.ZipFile(zipN,'r')"
   ]
  },
  {
   "cell_type": "code",
   "execution_count": null,
   "metadata": {
    "collapsed": true
   },
   "outputs": [],
   "source": [
    "#extract all members from the archive to the current working directory\n",
    "zr.extractall(staging_d)"
   ]
  },
  {
   "cell_type": "code",
   "execution_count": null,
   "metadata": {
    "collapsed": true
   },
   "outputs": [],
   "source": [
    "zr.close()"
   ]
  },
  {
   "cell_type": "code",
   "execution_count": null,
   "metadata": {
    "collapsed": true
   },
   "outputs": [],
   "source": [
    "import sqlite3"
   ]
  },
  {
   "cell_type": "code",
   "execution_count": null,
   "metadata": {
    "collapsed": true
   },
   "outputs": [],
   "source": [
    "#create a databas\n",
    "mc=sqlite3.connect('medicare_hospital_compare.db')"
   ]
  },
  {
   "cell_type": "code",
   "execution_count": null,
   "metadata": {},
   "outputs": [],
   "source": [
    "#make a database cursor\n",
    "c=mc.cursor()\n",
    "c"
   ]
  },
  {
   "cell_type": "code",
   "execution_count": null,
   "metadata": {
    "collapsed": true
   },
   "outputs": [],
   "source": [
    "sql_str='drop table if exists my_table'"
   ]
  },
  {
   "cell_type": "code",
   "execution_count": null,
   "metadata": {},
   "outputs": [],
   "source": [
    "c.execute(sql_str)"
   ]
  },
  {
   "cell_type": "code",
   "execution_count": null,
   "metadata": {
    "collapsed": true
   },
   "outputs": [],
   "source": [
    "import csv\n",
    "import pandas as pd\n",
    "from pandas import Series,DataFrame\n",
    "import glob"
   ]
  },
  {
   "cell_type": "code",
   "execution_count": null,
   "metadata": {},
   "outputs": [],
   "source": [
    "path=os.getcwd()\n",
    "path"
   ]
  },
  {
   "cell_type": "code",
   "execution_count": null,
   "metadata": {},
   "outputs": [],
   "source": [
    "newpath=os.path.join(path,'staging')\n",
    "newpath\n"
   ]
  },
  {
   "cell_type": "code",
   "execution_count": null,
   "metadata": {
    "collapsed": true
   },
   "outputs": [],
   "source": [
    "#extract all csv files \n",
    "files1=glob.glob(os.path.join(\"staging\" + \"/*.csv\"))"
   ]
  },
  {
   "cell_type": "code",
   "execution_count": null,
   "metadata": {
    "collapsed": true
   },
   "outputs": [],
   "source": [
    "#read in cp1252, output csv in utf-8\n",
    "dict_={}\n",
    "for file in files1:\n",
    "    dict_[file]=pd.read_csv(file, header=0, dtype=str, encoding='cp1252')\n",
    "for file in dict_:\n",
    "    dict_[file].to_csv(file, encoding='utf-8',index=0)"
   ]
  },
  {
   "cell_type": "code",
   "execution_count": null,
   "metadata": {
    "collapsed": true
   },
   "outputs": [],
   "source": [
    "import string\n",
    "l=list(string.ascii_lowercase)+list(string.ascii_uppercase)"
   ]
  },
  {
   "cell_type": "code",
   "execution_count": null,
   "metadata": {
    "collapsed": true
   },
   "outputs": [],
   "source": [
    "#working with the column name as required \n",
    "for file in dict_:\n",
    "    dict_[file]=pd.read_csv(file, header=0, dtype=str)\n",
    "    for col in dict_[file]:\n",
    "        dict_[file].columns=map(str.lower,dict_[file].columns)\n",
    "        dict_[file].columns=[col.strip().replace(\" \", '_').replace('-', '_').replace('%', 'pct').replace('/', '_') for col in dict_[file].columns]\n",
    "    for col in dict_[file]:\n",
    "        if col[0] in l:\n",
    "            pass\n",
    "        else:\n",
    "            dict_[file].rename(columns={col:'c'+col},inplace=True)"
   ]
  },
  {
   "cell_type": "markdown",
   "metadata": {},
   "source": [
    "Index(['provider_id', 'vha_facility', 'address', 'city', 'state', 'zip_code',\n",
    "       'measureid', 'technical_measure_title',\n",
    "       'measure_as_posted_on_hospital_compare', 'observed_rate',\n",
    "       'expected_rate', 'risk_adjusted_rate', '95pct_confidence_lower_limit',\n",
    "       '95pct_confidence_lower_upper_limit', 'footnotes', 'date_range'],\n",
    "      dtype='object')"
   ]
  },
  {
   "cell_type": "code",
   "execution_count": null,
   "metadata": {
    "collapsed": true
   },
   "outputs": [],
   "source": [
    "#rewrite csv files with transformed column name\n",
    "for file in dict_:\n",
    "    dict_[file].to_csv(file, encoding='utf-8',index=0)"
   ]
  },
  {
   "cell_type": "code",
   "execution_count": null,
   "metadata": {
    "collapsed": true
   },
   "outputs": [],
   "source": [
    "#transform file name\n",
    "for file in os.listdir(\"staging\"):\n",
    "    if file[-3:]=='csv':\n",
    "        os.rename(\"staging\"+'\\\\'+file, \"staging\"+'\\\\'+file.lower())\n",
    "        if file[0] in l:\n",
    "            pass\n",
    "        else:\n",
    "            file=file.replace(file,'t'+file)"
   ]
  },
  {
   "cell_type": "code",
   "execution_count": null,
   "metadata": {
    "collapsed": true
   },
   "outputs": [],
   "source": [
    "#transform file name\n",
    "for file in os.listdir(\"staging\"):\n",
    "    if file[-3:]=='csv':\n",
    "        os.rename(\"staging\"+'\\\\'+file,\"staging\"+'\\\\'+file.replace(' ','_').replace('-','_').replace('%','pct').replace('/','_'))\n",
    "        "
   ]
  },
  {
   "cell_type": "code",
   "execution_count": null,
   "metadata": {
    "collapsed": true
   },
   "outputs": [],
   "source": [
    "#list all csv file name\n",
    "csvn=[]\n",
    "for file in os.listdir('staging'):\n",
    "    if file[-3:]=='csv':\n",
    "        csvn.append(file)"
   ]
  },
  {
   "cell_type": "code",
   "execution_count": null,
   "metadata": {},
   "outputs": [],
   "source": [
    "#see if file numbers match\n",
    "len([name for name in files1])==len([name for name in csvn])"
   ]
  },
  {
   "cell_type": "code",
   "execution_count": null,
   "metadata": {
    "collapsed": true
   },
   "outputs": [],
   "source": [
    "#import csv files as database tables\n",
    "for i in range(62):\n",
    "    dict_[files1[i]].to_sql(csvn[i][:-4], mc, if_exists='append', index=False)\n",
    "    "
   ]
  },
  {
   "cell_type": "code",
   "execution_count": null,
   "metadata": {},
   "outputs": [],
   "source": [
    "#drop table with corrupt data\n",
    "c.execute('DROP TABLE fy2015_percent_change_in_medicare_payments')"
   ]
  },
  {
   "cell_type": "markdown",
   "metadata": {},
   "source": [
    "++++++++++++++++++++++++++++++++++++++++++++++++++++++++++++++++++++++++++++++++++++++++++++++++++++++++++++++++++++++++++++++++"
   ]
  },
  {
   "cell_type": "code",
   "execution_count": null,
   "metadata": {
    "collapsed": true
   },
   "outputs": [],
   "source": [
    "url2='http://kevincrook.com/utd/hospital_ranking_focus_states.xlsx'"
   ]
  },
  {
   "cell_type": "code",
   "execution_count": null,
   "metadata": {
    "collapsed": true
   },
   "outputs": [],
   "source": [
    "#pull xlsx file to computer\n",
    "r2=requests.get(url2)"
   ]
  },
  {
   "cell_type": "code",
   "execution_count": null,
   "metadata": {
    "collapsed": true
   },
   "outputs": [],
   "source": [
    "f=open(\"hospital_ranking_focus_states.xlsx\",\"wb\")"
   ]
  },
  {
   "cell_type": "code",
   "execution_count": null,
   "metadata": {},
   "outputs": [],
   "source": [
    "f.write(r2.content)"
   ]
  },
  {
   "cell_type": "code",
   "execution_count": null,
   "metadata": {
    "collapsed": true
   },
   "outputs": [],
   "source": [
    "#save the file\n",
    "f.close()"
   ]
  },
  {
   "cell_type": "code",
   "execution_count": null,
   "metadata": {
    "collapsed": true
   },
   "outputs": [],
   "source": [
    "import openpyxl\n",
    "book=openpyxl.load_workbook('hospital_ranking_focus_states.xlsx')"
   ]
  },
  {
   "cell_type": "code",
   "execution_count": null,
   "metadata": {},
   "outputs": [],
   "source": [
    "#geet sheet name in the file\n",
    "for sheet_name in book.get_sheet_names():\n",
    "    print(sheet_name)"
   ]
  },
  {
   "cell_type": "code",
   "execution_count": null,
   "metadata": {
    "collapsed": true
   },
   "outputs": [],
   "source": [
    "sheet_a_name = book.get_sheet_names()[0]\n",
    "sheet_a = book.get_sheet_by_name(sheet_a_name)"
   ]
  },
  {
   "cell_type": "code",
   "execution_count": null,
   "metadata": {
    "collapsed": true
   },
   "outputs": [],
   "source": [
    "sheet_b_name = book.get_sheet_names()[1]\n",
    "sheet_b = book.get_sheet_by_name(sheet_b_name)"
   ]
  },
  {
   "cell_type": "code",
   "execution_count": null,
   "metadata": {},
   "outputs": [],
   "source": [
    "#print sheet a\n",
    "i = 1\n",
    "while sheet_a.cell(row = i, column = 1).value != None:\n",
    "    print(sheet_a.cell(row = i,column = 1).value, \"|\", sheet_a.cell(row = i, column = 2).value)\n",
    "    i += 1"
   ]
  },
  {
   "cell_type": "code",
   "execution_count": null,
   "metadata": {},
   "outputs": [],
   "source": [
    "#print sheet b\n",
    "i = 1\n",
    "while sheet_b.cell(row = i, column = 1).value != None:\n",
    "    print(sheet_b.cell(row = i,column = 1).value, \"|\", sheet_b.cell(row = i, column = 2).value)\n",
    "    i += 1"
   ]
  },
  {
   "cell_type": "markdown",
   "metadata": {},
   "source": [
    "+++++++++++++++++++++++++++++++++++++++++++++++++++++++++++++++++++++++++++++++++++++++++++++++++++++++++++++++++++++++++++++++"
   ]
  },
  {
   "cell_type": "code",
   "execution_count": null,
   "metadata": {
    "collapsed": true
   },
   "outputs": [],
   "source": [
    "#get the provider id from sheet a and make a list\n",
    "topP=[]\n",
    "i = 2\n",
    "while sheet_a.cell(row = i, column = 1).value != None:\n",
    "    topP.append(sheet_a.cell(row = i,column = 1).value)\n",
    "    i+=1"
   ]
  },
  {
   "cell_type": "code",
   "execution_count": null,
   "metadata": {
    "collapsed": true
   },
   "outputs": [],
   "source": [
    "#get top 100 provider id and make a df\n",
    "Rank=pd.DataFrame()\n",
    "Rank['Provider ID']=topP[:100]\n"
   ]
  },
  {
   "cell_type": "code",
   "execution_count": null,
   "metadata": {
    "collapsed": true
   },
   "outputs": [],
   "source": [
    "#query data out from database and put to df, rename columns\n",
    "NW=pd.read_sql('SELECT provider_id, hospital_name, city, state, county_name from hospital_general_information',mc)\n",
    "NW=NW.rename(columns = {'provider_id':'Provider ID'}).rename(columns={'city':'City'}).rename(columns={'hospital_name':'Hospital Name'}).rename(columns = {'state':'State'}).rename(columns = {'county_name':'County'})\n"
   ]
  },
  {
   "cell_type": "code",
   "execution_count": null,
   "metadata": {
    "collapsed": true
   },
   "outputs": [],
   "source": [
    "#merge data from two df where provider id matches\n",
    "Nationwide=Rank.merge(NW,how='inner',on=['Provider ID'])"
   ]
  },
  {
   "cell_type": "code",
   "execution_count": null,
   "metadata": {
    "collapsed": true
   },
   "outputs": [],
   "source": [
    "#get all provider id and make a df\n",
    "ProviderRank=pd.DataFrame()\n",
    "ProviderRank['Provider ID']=topP\n"
   ]
  },
  {
   "cell_type": "code",
   "execution_count": null,
   "metadata": {
    "collapsed": true
   },
   "outputs": [],
   "source": [
    "#merge data from two df where provider id matches\n",
    "match=ProviderRank.merge(NW,how='inner',on=['Provider ID'])\n"
   ]
  },
  {
   "cell_type": "code",
   "execution_count": null,
   "metadata": {
    "collapsed": true
   },
   "outputs": [],
   "source": [
    "#get top 100 provider info in each state \n",
    "TX=match.loc[match['State']=='TX']\n",
    "Texas=TX[:100]\n",
    "\n",
    "CA=match.loc[match['State']=='CA']\n",
    "California=CA[:100]\n",
    "\n",
    "FL=match.loc[match['State']=='FL']\n",
    "Florida=FL[:100]\n",
    "\n",
    "GA=match.loc[match['State']=='GA']\n",
    "Georgia=GA[:100]\n",
    "\n",
    "IL=match.loc[match['State']=='IL']\n",
    "Illinois=IL[:100]\n",
    "\n",
    "KS=match.loc[match['State']=='KS']\n",
    "Kansas=KS[:100]\n",
    "\n",
    "MI=match.loc[match['State']=='MI']\n",
    "Michigan=MI[:100]\n",
    "\n",
    "NY=match.loc[match['State']=='NY']\n",
    "New_York=NY[:100]\n",
    "\n",
    "OH=match.loc[match['State']=='OH']\n",
    "Ohio=OH[:100]\n",
    "\n",
    "PA=match.loc[match['State']=='PA']\n",
    "Pennsylvania=PA[:100]\n",
    "\n",
    "#Pennsylvania.index=range(100)"
   ]
  },
  {
   "cell_type": "code",
   "execution_count": null,
   "metadata": {
    "collapsed": true
   },
   "outputs": [],
   "source": [
    "#write df to xlsx\n",
    "hr=pd.ExcelWriter('hospital_ranking.xlsx')\n",
    "\n",
    "Nationwide.to_excel(hr,'Nationwide',index=False)\n",
    "California.to_excel(hr,'California',index=False)\n",
    "Florida.to_excel(hr,'Florida',index=False)\n",
    "Georgia.to_excel(hr,'Georgia',index=False)\n",
    "Illinois.to_excel(hr,'Illinois',index=False)\n",
    "Kansas.to_excel(hr,'Kansas',index=False)\n",
    "Michigan.to_excel(hr,'Michigan',index=False)\n",
    "New_York.to_excel(hr,'New_York',index=False)\n",
    "Ohio.to_excel(hr,'Ohio',index=False)\n",
    "Pennsylvania.to_excel(hr,'Pennsylvania',index=False)\n",
    "Texas.to_excel(hr,'Texas',index=False)\n",
    "\n",
    "hr.save()"
   ]
  },
  {
   "cell_type": "code",
   "execution_count": null,
   "metadata": {
    "collapsed": true
   },
   "outputs": [],
   "source": [
    "#query data out to df\n",
    "STAT=pd.read_sql('SELECT state, measure_id, measure_name, score From timely_and_effective_care___hospital',mc)"
   ]
  },
  {
   "cell_type": "code",
   "execution_count": null,
   "metadata": {},
   "outputs": [],
   "source": [
    "#get unique measure id and measure name, make a list with state name\n",
    "measureID=STAT.measure_id.unique()\n",
    "measureID\n",
    "measureName=STAT.measure_name.unique()\n",
    "measureName\n",
    "stateName=[]\n",
    "i = 2\n",
    "while sheet_b.cell(row = i,column=2).value!=None:\n",
    "    stateName.append(sheet_b.cell(row=i,column=2).value)\n",
    "    i+=1\n",
    "stateName"
   ]
  },
  {
   "cell_type": "code",
   "execution_count": null,
   "metadata": {
    "collapsed": true
   },
   "outputs": [],
   "source": [
    "#calculate the minimum, maximum, average, and standard deviation for each measure for all hospitals nationwide\n",
    "df=pd.DataFrame(columns=['Measure ID','Measure Name','Minimum','Maximum','Average','Standard Deviation'])\n",
    "\n",
    "for i in range(22):\n",
    "    a=STAT.loc[STAT['measure_id']==measureID[i]] \n",
    "    b=(a.drop('score', axis=1).join(a['score'].apply(pd.to_numeric, errors='coerce')))#with option 'coerce', such that all non-numeric entries are converted to NaN\n",
    "    c=b[b['score'].notnull()]\n",
    "    if c['score'].isnull().values.all():\n",
    "        #can add 'print('There is no record for this measure: '+measureID[i])'\n",
    "        pass\n",
    "    else:\n",
    "        mini=min(c['score'])\n",
    "        maximum=max(c['score'])\n",
    "        average=c['score'].mean()\n",
    "        std=c['score'].std()\n",
    "        df.loc[i]=[measureID[i],measureName[i],mini,maximum,average,std]\n",
    "       "
   ]
  },
  {
   "cell_type": "code",
   "execution_count": null,
   "metadata": {},
   "outputs": [],
   "source": [
    "nationwild=df\n",
    "nationwild"
   ]
  },
  {
   "cell_type": "code",
   "execution_count": null,
   "metadata": {
    "collapsed": true
   },
   "outputs": [],
   "source": [
    "#a function to get the minimum, maximum, average and standard deviation for each measure for all hospitals in a specific state in stateName\n",
    "\n",
    "\n",
    "def MS(j):\n",
    "    dfstate=pd.DataFrame(columns=['Measure ID','Measure Name','Minimum','Maximum','Average','Standard Deviation'])\n",
    "    if j in range(10):\n",
    "        df2=STAT.loc[STAT['state']==stateName[j]]#use index to specify the state\n",
    "        for i in range(22):\n",
    "            df3=df2.loc[STAT['measure_id']==measureID[i]]\n",
    "            df4=(df3.drop('score', axis=1).join(df3['score'].apply(pd.to_numeric, errors='coerce')))\n",
    "            df5=df4[df4['score'].notnull()]\n",
    "            if df5['score'].isnull().values.all():\n",
    "                #can add 'print('There is no record in '+stateName[j]+ ' for measure: '+measureID[i])'\n",
    "                pass\n",
    "            else:\n",
    "                mini=min(df5['score'])\n",
    "                maximum=max(df5['score'])\n",
    "                average=df5['score'].mean()\n",
    "                std=df5['score'].std()\n",
    "                dfstate.loc[i]=[measureID[i],measureName[i],mini,maximum,average,std]\n",
    "        return dfstate"
   ]
  },
  {
   "cell_type": "code",
   "execution_count": null,
   "metadata": {
    "collapsed": true
   },
   "outputs": [],
   "source": [
    "CA=MS(0)\n",
    "FL=MS(1)\n",
    "GA=MS(2)\n",
    "IL=MS(3)\n",
    "KS=MS(4)\n",
    "MI=MS(5)\n",
    "NY=MS(6)\n",
    "OH=MS(7)\n",
    "PA=MS(8)\n",
    "TX=MS(9)"
   ]
  },
  {
   "cell_type": "code",
   "execution_count": null,
   "metadata": {
    "collapsed": true
   },
   "outputs": [],
   "source": [
    "#write df to xlsx file\n",
    "ms=pd.ExcelWriter('measure_statistics.xlsx')\n",
    "\n",
    "nationwild.to_excel(ms,'Nationwide',index=False)\n",
    "CA.to_excel(ms,'California',index=False)\n",
    "FL.to_excel(ms,'Florida',index=False)\n",
    "GA.to_excel(ms,'Georgia',index=False)\n",
    "IL.to_excel(ms,'Illinois',index=False)\n",
    "KS.to_excel(ms,'Kansas',index=False)\n",
    "MI.to_excel(ms,'Michigan',index=False)\n",
    "NY.to_excel(ms,'New_York',index=False)\n",
    "OH.to_excel(ms,'Ohio',index=False)\n",
    "PA.to_excel(ms,'Pennsylvania',index=False)\n",
    "TX.to_excel(ms,'Texas',index=False)\n",
    "\n",
    "ms.save()"
   ]
  },
  {
   "cell_type": "code",
   "execution_count": null,
   "metadata": {
    "collapsed": true
   },
   "outputs": [],
   "source": []
  }
 ],
 "metadata": {
  "kernelspec": {
   "display_name": "Python 3",
   "language": "python",
   "name": "python3"
  },
  "language_info": {
   "codemirror_mode": {
    "name": "ipython",
    "version": 3
   },
   "file_extension": ".py",
   "mimetype": "text/x-python",
   "name": "python",
   "nbconvert_exporter": "python",
   "pygments_lexer": "ipython3",
   "version": "3.6.1"
  }
 },
 "nbformat": 4,
 "nbformat_minor": 2
}
